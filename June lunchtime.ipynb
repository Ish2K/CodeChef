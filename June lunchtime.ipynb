{
 "cells": [
  {
   "cell_type": "code",
   "execution_count": 7,
   "metadata": {},
   "outputs": [
    {
     "name": "stdout",
     "output_type": "stream",
     "text": [
      "1\n",
      "7 9\n",
      "2 2 5\n",
      "5\n",
      "5\n",
      "1 0\n",
      "2 -3 0\n",
      "4\n",
      "2\n",
      "1 1\n",
      "2 0 3\n",
      "4\n",
      "6\n",
      "1 -4\n",
      "1 -2\n",
      "2 -4 -1\n",
      "0\n",
      "6\n",
      "2 -5 -3\n",
      "1\n",
      "0\n"
     ]
    }
   ],
   "source": [
    "##PAJAPONG\n",
    "from math import ceil\n",
    "for _ in range(int(input())):\n",
    "    x,y,k = map(int,input().split())\n",
    "    total = x+y\n",
    "    div = total/k\n",
    "    if (div) == ceil(div):\n",
    "        if div%2==0:\n",
    "            print(\"Chef\")\n",
    "        else:\n",
    "            print(\"Paja\")\n",
    "    else:\n",
    "        if ceil(div)%2==0:\n",
    "            print(\"Paja\")\n",
    "        else:\n",
    "            print(\"Chef\")"
   ]
  },
  {
   "cell_type": "code",
   "execution_count": 5,
   "metadata": {},
   "outputs": [
    {
     "data": {
      "text/plain": [
       "[5, 3, 2, 4]"
      ]
     },
     "execution_count": 5,
     "metadata": {},
     "output_type": "execute_result"
    }
   ],
   "source": [
    "#BURARRAY\n",
    "for _ in range(int(input())):\n",
    "    n,q = map(int,input().split())\n",
    "    s = 0\n",
    "    b = 0\n",
    "    a = [x for x in range(n+1)]\n",
    "    for _ in range(q):\n",
    "        l = list(map(int,input().split()))\n",
    "        if l[0]==1:\n",
    "            y = l[1]\n",
    "            x = y+s\n",
    "            a[x]=0\n",
    "        elif l[0]==2:\n",
    "            p = l[1] + s\n",
    "            q = l[2] + s\n",
    "            b+=(max(a[p:q+1]))\n",
    "            print(max(a[p:q+1]))\n",
    "            s = (b)%n"
   ]
  },
  {
   "cell_type": "code",
   "execution_count": null,
   "metadata": {},
   "outputs": [],
   "source": []
  }
 ],
 "metadata": {
  "kernelspec": {
   "display_name": "Python 3",
   "language": "python",
   "name": "python3"
  },
  "language_info": {
   "codemirror_mode": {
    "name": "ipython",
    "version": 3
   },
   "file_extension": ".py",
   "mimetype": "text/x-python",
   "name": "python",
   "nbconvert_exporter": "python",
   "pygments_lexer": "ipython3",
   "version": "3.7.1"
  }
 },
 "nbformat": 4,
 "nbformat_minor": 2
}
